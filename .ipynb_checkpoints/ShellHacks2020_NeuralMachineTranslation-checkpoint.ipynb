{
 "cells": [
  {
   "cell_type": "markdown",
   "metadata": {},
   "source": [
    "# Load Raw Data and Clean"
   ]
  },
  {
   "cell_type": "code",
   "execution_count": 64,
   "metadata": {},
   "outputs": [],
   "source": [
    "import string\n",
    "import re\n",
    "from pickle import load\n",
    "from pickle import dump\n",
    "from unicodedata import normalize\n",
    "from numpy import array\n",
    "from numpy.random import rand\n",
    "from numpy.random import shuffle"
   ]
  },
  {
   "cell_type": "code",
   "execution_count": 65,
   "metadata": {},
   "outputs": [],
   "source": [
    "def load_doc(filename):\n",
    "    # open the file as read only\n",
    "    file = open(filename, mode='rt', encoding='utf-8')\n",
    "    # read all text\n",
    "    text = file.read()\n",
    "    # close the file\n",
    "    file.close()\n",
    "    return text"
   ]
  },
  {
   "cell_type": "code",
   "execution_count": 66,
   "metadata": {},
   "outputs": [],
   "source": [
    "# split a loaded document into sentences\n",
    "def to_pairs(doc):\n",
    "    lines = doc.strip().split('\\n')\n",
    "    pairs = [line.split('\\t') for line in  lines]\n",
    "    return pairs"
   ]
  },
  {
   "cell_type": "code",
   "execution_count": 67,
   "metadata": {},
   "outputs": [],
   "source": [
    "# clean a list of lines\n",
    "def clean_pairs(lines):\n",
    "    cleaned = list()\n",
    "    # prepare regex for char filtering\n",
    "    re_print = re.compile('[^%s]' % re.escape(string.printable))\n",
    "    # prepare translation table for removing punctuation\n",
    "    table = str.maketrans('', '', string.punctuation)\n",
    "    for pair in lines:\n",
    "        clean_pair = list()\n",
    "        for line in pair:\n",
    "            # normalize unicode characters\n",
    "            line = normalize('NFD', line).encode('ascii', 'ignore')\n",
    "            line = line.decode('UTF-8')\n",
    "            # tokenize on white space\n",
    "            line = line.split()\n",
    "            # convert to lowercase\n",
    "            line = [word.lower() for word in line]\n",
    "            # remove punctuation from each token\n",
    "            line = [word.translate(table) for word in line]\n",
    "            # remove non-printable chars form each token\n",
    "            line = [re_print.sub('', w) for w in line]\n",
    "            # remove tokens with numbers in them\n",
    "            line = [word for word in line if word.isalpha()]\n",
    "            # store as string\n",
    "            clean_pair.append(' '.join(line))\n",
    "        cleaned.append(clean_pair)\n",
    "    return array(cleaned)"
   ]
  },
  {
   "cell_type": "code",
   "execution_count": 68,
   "metadata": {},
   "outputs": [],
   "source": [
    "# save a list of clean sentences to file\n",
    "def save_clean_data(sentences, filename):\n",
    "    dump(sentences, open(filename, 'wb'))\n",
    "    print('Saved: %s' % filename)"
   ]
  },
  {
   "cell_type": "code",
   "execution_count": 69,
   "metadata": {},
   "outputs": [],
   "source": [
    "# load dataset\n",
    "filename = 'deu.txt'\n",
    "doc = load_doc(filename)"
   ]
  },
  {
   "cell_type": "code",
   "execution_count": 70,
   "metadata": {},
   "outputs": [],
   "source": [
    "# split into english-german pairs\n",
    "pairs = to_pairs(doc)"
   ]
  },
  {
   "cell_type": "code",
   "execution_count": 71,
   "metadata": {},
   "outputs": [],
   "source": [
    "# clean sentences\n",
    "clean_pairs = clean_pairs(pairs)"
   ]
  },
  {
   "cell_type": "code",
   "execution_count": 72,
   "metadata": {},
   "outputs": [
    {
     "name": "stdout",
     "output_type": "stream",
     "text": [
      "Saved: english-german.pkl\n"
     ]
    }
   ],
   "source": [
    "# save clean pairs to file\n",
    "save_clean_data(clean_pairs, 'english-german.pkl')"
   ]
  },
  {
   "cell_type": "code",
   "execution_count": 73,
   "metadata": {},
   "outputs": [
    {
     "name": "stdout",
     "output_type": "stream",
     "text": [
      "[go] => [geh]\n",
      "[hi] => [hallo]\n",
      "[hi] => [gru gott]\n",
      "[run] => [lauf]\n",
      "[run] => [lauf]\n"
     ]
    }
   ],
   "source": [
    "for i in range(5):\n",
    "    print('[%s] => [%s]' % (clean_pairs[i,0], clean_pairs[i,1]))"
   ]
  },
  {
   "cell_type": "code",
   "execution_count": 18,
   "metadata": {},
   "outputs": [],
   "source": [
    "# load a clean dataset\n",
    "def load_clean_sentences(filename):\n",
    "    return load(open(filename, 'rb'))"
   ]
  },
  {
   "cell_type": "code",
   "execution_count": 19,
   "metadata": {},
   "outputs": [],
   "source": [
    "raw_dataset = load_clean_sentences('english-german.pkl')"
   ]
  },
  {
   "cell_type": "code",
   "execution_count": 21,
   "metadata": {},
   "outputs": [
    {
     "name": "stdout",
     "output_type": "stream",
     "text": [
      "221533\n"
     ]
    }
   ],
   "source": [
    "print(len(raw_dataset))"
   ]
  },
  {
   "cell_type": "code",
   "execution_count": 20,
   "metadata": {},
   "outputs": [],
   "source": [
    "n_sentences = 10000\n",
    "dataset = raw_dataset[:n_sentences, :]"
   ]
  },
  {
   "cell_type": "code",
   "execution_count": 22,
   "metadata": {},
   "outputs": [],
   "source": [
    "shuffle(dataset)"
   ]
  },
  {
   "cell_type": "code",
   "execution_count": 23,
   "metadata": {},
   "outputs": [],
   "source": [
    "train, test = dataset[:9000], dataset[9000:]"
   ]
  },
  {
   "cell_type": "code",
   "execution_count": 24,
   "metadata": {},
   "outputs": [
    {
     "name": "stdout",
     "output_type": "stream",
     "text": [
      "Saved: english-german-both.pkl\n",
      "Saved: english-german-train.pkl\n",
      "Saved: english-german-test.pkl\n"
     ]
    }
   ],
   "source": [
    "save_clean_data(dataset, 'english-german-both.pkl')\n",
    "save_clean_data(train, 'english-german-train.pkl')\n",
    "save_clean_data(test, 'english-german-test.pkl')"
   ]
  },
  {
   "cell_type": "markdown",
   "metadata": {},
   "source": [
    "# Build the NMT Model"
   ]
  },
  {
   "cell_type": "code",
   "execution_count": 25,
   "metadata": {},
   "outputs": [],
   "source": [
    "from pickle import load\n",
    "from numpy import array\n",
    "from keras.preprocessing.text import Tokenizer\n",
    "from keras.preprocessing.sequence import pad_sequences\n",
    "from keras.utils import to_categorical\n",
    "from keras.utils.vis_utils import plot_model\n",
    "from keras.models import Sequential\n",
    "from keras.layers import LSTM\n",
    "from keras.layers import Dense\n",
    "from keras.layers import Embedding\n",
    "from keras.layers import RepeatVector\n",
    "from keras.layers import TimeDistributed\n",
    "from keras.callbacks import ModelCheckpoint"
   ]
  },
  {
   "cell_type": "code",
   "execution_count": 26,
   "metadata": {},
   "outputs": [],
   "source": [
    "def create_tokenizer(lines):\n",
    "    tokenizer = Tokenizer()\n",
    "    tokenizer.fit_on_texts(lines)\n",
    "    return tokenizer"
   ]
  },
  {
   "cell_type": "code",
   "execution_count": 27,
   "metadata": {},
   "outputs": [],
   "source": [
    "# max sentence length\n",
    "def max_length(lines):\n",
    "    return max(len(line.split()) for line in lines)"
   ]
  },
  {
   "cell_type": "code",
   "execution_count": 28,
   "metadata": {},
   "outputs": [],
   "source": [
    "# encode and pad sequences\n",
    "def encode_sequences(tokenizer, length, lines):\n",
    "    # integer encode sequences\n",
    "    X = tokenizer.texts_to_sequences(lines)\n",
    "    # pad sequences with 0 values\n",
    "    X = pad_sequences(X, maxlen=length, padding='post')\n",
    "    return X"
   ]
  },
  {
   "cell_type": "code",
   "execution_count": 29,
   "metadata": {},
   "outputs": [],
   "source": [
    "# one hot encode target sequence\n",
    "def encode_output(sequences, vocab_size):\n",
    "    ylist = list()\n",
    "    for sequence in sequences:\n",
    "        encoded = to_categorical(sequence, num_classes=vocab_size)\n",
    "        ylist.append(encoded)\n",
    "    y = array(ylist)\n",
    "    y = y.reshape(sequences.shape[0], sequences.shape[1], vocab_size)\n",
    "    return y"
   ]
  },
  {
   "cell_type": "code",
   "execution_count": 30,
   "metadata": {},
   "outputs": [],
   "source": [
    "# define NMT model\n",
    "def define_model(src_vocab, tar_vocab, src_timesteps, tar_timesteps, n_units):\n",
    "    model = Sequential()\n",
    "    model.add(Embedding(src_vocab, n_units, input_length=src_timesteps, mask_zero=True))\n",
    "    model.add(LSTM(n_units))\n",
    "    model.add(RepeatVector(tar_timesteps))\n",
    "    model.add(LSTM(n_units, return_sequences=True))\n",
    "    model.add(TimeDistributed(Dense(tar_vocab, activation='softmax')))\n",
    "    return model"
   ]
  },
  {
   "cell_type": "code",
   "execution_count": 31,
   "metadata": {},
   "outputs": [],
   "source": [
    "dataset = load_clean_sentences('english-german-both.pkl')\n",
    "train = load_clean_sentences('english-german-train.pkl')\n",
    "test = load_clean_sentences('english-german-test.pkl')"
   ]
  },
  {
   "cell_type": "code",
   "execution_count": 32,
   "metadata": {},
   "outputs": [
    {
     "name": "stdout",
     "output_type": "stream",
     "text": [
      "English Vocabulary Size: 2241\n",
      "English Max Length: 5\n"
     ]
    }
   ],
   "source": [
    "# prepare english tokenizer\n",
    "eng_tokenizer = create_tokenizer(dataset[:, 0])\n",
    "eng_vocab_size = len(eng_tokenizer.word_index) + 1\n",
    "eng_length = max_length(dataset[:, 0])\n",
    "print('English Vocabulary Size: %d' % eng_vocab_size)\n",
    "print('English Max Length: %d' % (eng_length))"
   ]
  },
  {
   "cell_type": "code",
   "execution_count": 33,
   "metadata": {},
   "outputs": [
    {
     "name": "stdout",
     "output_type": "stream",
     "text": [
      "German Vocabulary Size: 3572\n",
      "German Max Length: 9\n"
     ]
    }
   ],
   "source": [
    "# prepare german tokenizer\n",
    "ger_tokenizer = create_tokenizer(dataset[:, 1])\n",
    "ger_vocab_size = len(ger_tokenizer.word_index) + 1\n",
    "ger_length = max_length(dataset[:, 1])\n",
    "print('German Vocabulary Size: %d' % ger_vocab_size)\n",
    "print('German Max Length: %d' % (ger_length))"
   ]
  },
  {
   "cell_type": "code",
   "execution_count": 34,
   "metadata": {},
   "outputs": [],
   "source": [
    "# prepare training data\n",
    "trainX = encode_sequences(ger_tokenizer, ger_length, train[:, 1])\n",
    "trainY = encode_sequences(eng_tokenizer, eng_length, train[:, 0])\n",
    "trainY = encode_output(trainY, eng_vocab_size)"
   ]
  },
  {
   "cell_type": "code",
   "execution_count": 35,
   "metadata": {},
   "outputs": [],
   "source": [
    "# prepare validation data\n",
    "testX = encode_sequences(ger_tokenizer, ger_length, test[:, 1])\n",
    "testY = encode_sequences(eng_tokenizer, eng_length, test[:, 0])\n",
    "testY = encode_output(testY, eng_vocab_size)"
   ]
  },
  {
   "cell_type": "code",
   "execution_count": 36,
   "metadata": {},
   "outputs": [],
   "source": [
    "# define model\n",
    "model = define_model(ger_vocab_size, eng_vocab_size, ger_length, eng_length, 256)\n",
    "model.compile(optimizer='adam', loss='categorical_crossentropy')"
   ]
  },
  {
   "cell_type": "code",
   "execution_count": 38,
   "metadata": {},
   "outputs": [
    {
     "name": "stdout",
     "output_type": "stream",
     "text": [
      "Model: \"sequential\"\n",
      "_________________________________________________________________\n",
      "Layer (type)                 Output Shape              Param #   \n",
      "=================================================================\n",
      "embedding (Embedding)        (None, 9, 256)            914432    \n",
      "_________________________________________________________________\n",
      "lstm (LSTM)                  (None, 256)               525312    \n",
      "_________________________________________________________________\n",
      "repeat_vector (RepeatVector) (None, 5, 256)            0         \n",
      "_________________________________________________________________\n",
      "lstm_1 (LSTM)                (None, 5, 256)            525312    \n",
      "_________________________________________________________________\n",
      "time_distributed (TimeDistri (None, 5, 2241)           575937    \n",
      "=================================================================\n",
      "Total params: 2,540,993\n",
      "Trainable params: 2,540,993\n",
      "Non-trainable params: 0\n",
      "_________________________________________________________________\n",
      "None\n",
      "('Failed to import pydot. You must `pip install pydot` and install graphviz (https://graphviz.gitlab.io/download/), ', 'for `pydotprint` to work.')\n"
     ]
    }
   ],
   "source": [
    "# summarize defined model\n",
    "print(model.summary())\n",
    "plot_model(model, to_file='model.png', show_shapes=True)"
   ]
  },
  {
   "cell_type": "code",
   "execution_count": 39,
   "metadata": {},
   "outputs": [
    {
     "name": "stdout",
     "output_type": "stream",
     "text": [
      "Epoch 1/30\n",
      "\n",
      "Epoch 00001: val_loss improved from inf to 3.36899, saving model to model.h5\n",
      "141/141 - 9s - loss: 4.1321 - val_loss: 3.3690\n",
      "Epoch 2/30\n",
      "\n",
      "Epoch 00002: val_loss improved from 3.36899 to 3.22993, saving model to model.h5\n",
      "141/141 - 7s - loss: 3.2161 - val_loss: 3.2299\n",
      "Epoch 3/30\n",
      "\n",
      "Epoch 00003: val_loss improved from 3.22993 to 3.15028, saving model to model.h5\n",
      "141/141 - 8s - loss: 3.0777 - val_loss: 3.1503\n",
      "Epoch 4/30\n",
      "\n",
      "Epoch 00004: val_loss improved from 3.15028 to 3.00750, saving model to model.h5\n",
      "141/141 - 8s - loss: 2.9329 - val_loss: 3.0075\n",
      "Epoch 5/30\n",
      "\n",
      "Epoch 00005: val_loss improved from 3.00750 to 2.90200, saving model to model.h5\n",
      "141/141 - 8s - loss: 2.7752 - val_loss: 2.9020\n",
      "Epoch 6/30\n",
      "\n",
      "Epoch 00006: val_loss improved from 2.90200 to 2.81506, saving model to model.h5\n",
      "141/141 - 8s - loss: 2.6389 - val_loss: 2.8151\n",
      "Epoch 7/30\n",
      "\n",
      "Epoch 00007: val_loss improved from 2.81506 to 2.74327, saving model to model.h5\n",
      "141/141 - 8s - loss: 2.5057 - val_loss: 2.7433\n",
      "Epoch 8/30\n",
      "\n",
      "Epoch 00008: val_loss improved from 2.74327 to 2.62579, saving model to model.h5\n",
      "141/141 - 8s - loss: 2.3723 - val_loss: 2.6258\n",
      "Epoch 9/30\n",
      "\n",
      "Epoch 00009: val_loss improved from 2.62579 to 2.55556, saving model to model.h5\n",
      "141/141 - 8s - loss: 2.2402 - val_loss: 2.5556\n",
      "Epoch 10/30\n",
      "\n",
      "Epoch 00010: val_loss improved from 2.55556 to 2.46580, saving model to model.h5\n",
      "141/141 - 8s - loss: 2.1067 - val_loss: 2.4658\n",
      "Epoch 11/30\n",
      "\n",
      "Epoch 00011: val_loss improved from 2.46580 to 2.37944, saving model to model.h5\n",
      "141/141 - 8s - loss: 1.9728 - val_loss: 2.3794\n",
      "Epoch 12/30\n",
      "\n",
      "Epoch 00012: val_loss improved from 2.37944 to 2.29192, saving model to model.h5\n",
      "141/141 - 8s - loss: 1.8411 - val_loss: 2.2919\n",
      "Epoch 13/30\n",
      "\n",
      "Epoch 00013: val_loss improved from 2.29192 to 2.21907, saving model to model.h5\n",
      "141/141 - 8s - loss: 1.7150 - val_loss: 2.2191\n",
      "Epoch 14/30\n",
      "\n",
      "Epoch 00014: val_loss improved from 2.21907 to 2.15698, saving model to model.h5\n",
      "141/141 - 8s - loss: 1.5977 - val_loss: 2.1570\n",
      "Epoch 15/30\n",
      "\n",
      "Epoch 00015: val_loss improved from 2.15698 to 2.10994, saving model to model.h5\n",
      "141/141 - 8s - loss: 1.4862 - val_loss: 2.1099\n",
      "Epoch 16/30\n",
      "\n",
      "Epoch 00016: val_loss improved from 2.10994 to 2.06674, saving model to model.h5\n",
      "141/141 - 8s - loss: 1.3841 - val_loss: 2.0667\n",
      "Epoch 17/30\n",
      "\n",
      "Epoch 00017: val_loss improved from 2.06674 to 2.02856, saving model to model.h5\n",
      "141/141 - 8s - loss: 1.2860 - val_loss: 2.0286\n",
      "Epoch 18/30\n",
      "\n",
      "Epoch 00018: val_loss improved from 2.02856 to 2.00034, saving model to model.h5\n",
      "141/141 - 8s - loss: 1.1944 - val_loss: 2.0003\n",
      "Epoch 19/30\n",
      "\n",
      "Epoch 00019: val_loss improved from 2.00034 to 1.96997, saving model to model.h5\n",
      "141/141 - 8s - loss: 1.1041 - val_loss: 1.9700\n",
      "Epoch 20/30\n",
      "\n",
      "Epoch 00020: val_loss improved from 1.96997 to 1.93004, saving model to model.h5\n",
      "141/141 - 8s - loss: 1.0213 - val_loss: 1.9300\n",
      "Epoch 21/30\n",
      "\n",
      "Epoch 00021: val_loss improved from 1.93004 to 1.91434, saving model to model.h5\n",
      "141/141 - 8s - loss: 0.9390 - val_loss: 1.9143\n",
      "Epoch 22/30\n",
      "\n",
      "Epoch 00022: val_loss improved from 1.91434 to 1.88715, saving model to model.h5\n",
      "141/141 - 8s - loss: 0.8673 - val_loss: 1.8871\n",
      "Epoch 23/30\n",
      "\n",
      "Epoch 00023: val_loss improved from 1.88715 to 1.86977, saving model to model.h5\n",
      "141/141 - 8s - loss: 0.7978 - val_loss: 1.8698\n",
      "Epoch 24/30\n",
      "\n",
      "Epoch 00024: val_loss improved from 1.86977 to 1.86041, saving model to model.h5\n",
      "141/141 - 8s - loss: 0.7296 - val_loss: 1.8604\n",
      "Epoch 25/30\n",
      "\n",
      "Epoch 00025: val_loss improved from 1.86041 to 1.83389, saving model to model.h5\n",
      "141/141 - 8s - loss: 0.6665 - val_loss: 1.8339\n",
      "Epoch 26/30\n",
      "\n",
      "Epoch 00026: val_loss improved from 1.83389 to 1.82989, saving model to model.h5\n",
      "141/141 - 8s - loss: 0.6133 - val_loss: 1.8299\n",
      "Epoch 27/30\n",
      "\n",
      "Epoch 00027: val_loss improved from 1.82989 to 1.80976, saving model to model.h5\n",
      "141/141 - 8s - loss: 0.5594 - val_loss: 1.8098\n",
      "Epoch 28/30\n",
      "\n",
      "Epoch 00028: val_loss did not improve from 1.80976\n",
      "141/141 - 8s - loss: 0.5125 - val_loss: 1.8217\n",
      "Epoch 29/30\n",
      "\n",
      "Epoch 00029: val_loss improved from 1.80976 to 1.80356, saving model to model.h5\n",
      "141/141 - 8s - loss: 0.4682 - val_loss: 1.8036\n",
      "Epoch 30/30\n",
      "\n",
      "Epoch 00030: val_loss improved from 1.80356 to 1.79987, saving model to model.h5\n",
      "141/141 - 8s - loss: 0.4294 - val_loss: 1.7999\n"
     ]
    },
    {
     "data": {
      "text/plain": [
       "<tensorflow.python.keras.callbacks.History at 0x1ebe2f92880>"
      ]
     },
     "execution_count": 39,
     "metadata": {},
     "output_type": "execute_result"
    }
   ],
   "source": [
    "# fit model\n",
    "filename = 'model.h5'\n",
    "checkpoint = ModelCheckpoint(filename, monitor='val_loss', verbose=1, save_best_only=True, mode='min')\n",
    "model.fit(trainX, trainY, epochs=30, batch_size=64, validation_data=(testX, testY), callbacks=[checkpoint], verbose=2)"
   ]
  },
  {
   "cell_type": "markdown",
   "metadata": {},
   "source": [
    "# Evaluate the Model"
   ]
  },
  {
   "cell_type": "code",
   "execution_count": 49,
   "metadata": {},
   "outputs": [],
   "source": [
    "from pickle import load\n",
    "from numpy import array\n",
    "from numpy import argmax\n",
    "from keras.preprocessing.text import Tokenizer\n",
    "from keras.preprocessing.sequence import pad_sequences\n",
    "from keras.models import load_model\n",
    "from nltk.translate.bleu_score import corpus_bleu"
   ]
  },
  {
   "cell_type": "code",
   "execution_count": 54,
   "metadata": {},
   "outputs": [],
   "source": [
    "# map an integer to a word\n",
    "def word_for_id(integer, tokenizer):\n",
    "    for word, index in tokenizer.word_index.items():\n",
    "        if index == integer:\n",
    "            return word\n",
    "    return None"
   ]
  },
  {
   "cell_type": "code",
   "execution_count": 55,
   "metadata": {},
   "outputs": [],
   "source": [
    "# generate target given source sequence\n",
    "def predict_sequence(model, tokenizer, source):\n",
    "    prediction = model.predict(source, verbose=0)[0]\n",
    "    integers = [argmax(vector) for vector in prediction]\n",
    "    target = list()\n",
    "    for i in integers:\n",
    "        word = word_for_id(i, tokenizer)\n",
    "        if word is None:\n",
    "            break\n",
    "        target.append(word)\n",
    "    return ' '.join(target)"
   ]
  },
  {
   "cell_type": "code",
   "execution_count": 59,
   "metadata": {},
   "outputs": [],
   "source": [
    "def evaluate_model(model, tokenizer, sources, raw_dataset):\n",
    "    actual, predicted = list(), list()\n",
    "    for i, source in enumerate(sources):\n",
    "        # translate encoded source text\n",
    "        source = source.reshape((1, source.shape[0]))\n",
    "        translation = predict_sequence(model, eng_tokenizer, source)\n",
    "        raw_target, raw_src, _ = raw_dataset[i]\n",
    "        if i < 10:\n",
    "            print('src=[%s], target=[%s], predicted=[%s]' % (raw_src, raw_target, translation))\n",
    "        actual.append([raw_target.split()])\n",
    "        predicted.append(translation.split())\n",
    "    # calculate BLEU score\n",
    "    print('BLEU-1: %f' % corpus_bleu(actual, predicted, weights=(1.0, 0, 0, 0)))\n",
    "    print('BLEU-2: %f' % corpus_bleu(actual, predicted, weights=(0.5, 0.5, 0, 0)))\n",
    "    print('BLEU-3: %f' % corpus_bleu(actual, predicted, weights=(0.3, 0.3, 0.3, 0)))\n",
    "    print('BLEU-4: %f' % corpus_bleu(actual, predicted, weights=(0.25, 0.25, 0.25, 0.25)))\n"
   ]
  },
  {
   "cell_type": "code",
   "execution_count": 50,
   "metadata": {},
   "outputs": [],
   "source": [
    "# load datasets\n",
    "dataset = load_clean_sentences('english-german-both.pkl')\n",
    "train = load_clean_sentences('english-german-train.pkl')\n",
    "test = load_clean_sentences('english-german-test.pkl')"
   ]
  },
  {
   "cell_type": "code",
   "execution_count": 51,
   "metadata": {},
   "outputs": [],
   "source": [
    "# prepare english tokenizer\n",
    "eng_tokenizer = create_tokenizer(dataset[:, 0])\n",
    "eng_vocab_size = len(eng_tokenizer.word_index) + 1\n",
    "eng_length = max_length(dataset[:, 0])"
   ]
  },
  {
   "cell_type": "code",
   "execution_count": 52,
   "metadata": {},
   "outputs": [],
   "source": [
    "# prepare german tokenizer\n",
    "ger_tokenizer = create_tokenizer(dataset[:, 1])\n",
    "ger_vocab_size = len(ger_tokenizer.word_index) + 1\n",
    "ger_length = max_length(dataset[:, 1])"
   ]
  },
  {
   "cell_type": "code",
   "execution_count": 53,
   "metadata": {},
   "outputs": [],
   "source": [
    "# prepare data\n",
    "trainX = encode_sequences(ger_tokenizer, ger_length, train[:, 1])\n",
    "testX = encode_sequences(ger_tokenizer, ger_length, test[:, 1])"
   ]
  },
  {
   "cell_type": "code",
   "execution_count": 57,
   "metadata": {},
   "outputs": [],
   "source": [
    "# load model\n",
    "model = load_model('model.h5')"
   ]
  },
  {
   "cell_type": "code",
   "execution_count": 62,
   "metadata": {},
   "outputs": [
    {
     "name": "stdout",
     "output_type": "stream",
     "text": [
      "train\n",
      "src=[tom fluchte], target=[tom swore], predicted=[tom swore]\n",
      "src=[er ist abgeschlossen], target=[its locked], predicted=[its locked]\n",
      "src=[wie kommt das], target=[why is that], predicted=[how is that]\n",
      "src=[ich muss mich weigern], target=[i must refuse], predicted=[i must refuse]\n",
      "src=[hast du angerufen], target=[you called], predicted=[you called]\n",
      "src=[das hat mumm erfordert], target=[that took guts], predicted=[that took guts]\n",
      "src=[habe ich recht], target=[am i right], predicted=[am i correct]\n",
      "src=[ich bin jetzt ein mann], target=[im a man now], predicted=[im a man]\n",
      "src=[das ist wichtig], target=[its important], predicted=[its important]\n",
      "src=[das passiert], target=[it happens], predicted=[it happens]\n",
      "BLEU-1: 0.873667\n",
      "BLEU-2: 0.821140\n",
      "BLEU-3: 0.715909\n",
      "BLEU-4: 0.393324\n"
     ]
    }
   ],
   "source": [
    "# test on some training sequences\n",
    "print('train')\n",
    "evaluate_model(model, eng_tokenizer, trainX, train)"
   ]
  },
  {
   "cell_type": "code",
   "execution_count": 63,
   "metadata": {},
   "outputs": [
    {
     "name": "stdout",
     "output_type": "stream",
     "text": [
      "test\n",
      "src=[die rechnung bitte], target=[check please], predicted=[stop please]\n",
      "src=[ich druckte sie], target=[i hugged her], predicted=[i get you]\n",
      "src=[das ist in ordnung], target=[this is ok], predicted=[thats ok]\n",
      "src=[weinen sie nicht], target=[dont cry], predicted=[dont cry]\n",
      "src=[ich will einen beweis], target=[i want proof], predicted=[i want a job]\n",
      "src=[ich werde ihn umbringen], target=[ill kill him], predicted=[ill get him]\n",
      "src=[wir mussen gehorchen], target=[we must obey], predicted=[we can be]\n",
      "src=[ich habe einen kuli], target=[i have a pen], predicted=[i have a dream]\n",
      "src=[er lugt], target=[hes lying], predicted=[he is lying]\n",
      "src=[iss dein essen], target=[eat your food], predicted=[eat your food]\n",
      "BLEU-1: 0.542946\n",
      "BLEU-2: 0.410680\n",
      "BLEU-3: 0.319601\n",
      "BLEU-4: 0.132113\n"
     ]
    }
   ],
   "source": [
    "# test on some test sequences\n",
    "print('test')\n",
    "evaluate_model(model, eng_tokenizer, testX, test)"
   ]
  },
  {
   "cell_type": "code",
   "execution_count": null,
   "metadata": {},
   "outputs": [],
   "source": []
  }
 ],
 "metadata": {
  "kernelspec": {
   "display_name": "Python 3",
   "language": "python",
   "name": "python3"
  },
  "language_info": {
   "codemirror_mode": {
    "name": "ipython",
    "version": 3
   },
   "file_extension": ".py",
   "mimetype": "text/x-python",
   "name": "python",
   "nbconvert_exporter": "python",
   "pygments_lexer": "ipython3",
   "version": "3.8.5"
  }
 },
 "nbformat": 4,
 "nbformat_minor": 4
}
